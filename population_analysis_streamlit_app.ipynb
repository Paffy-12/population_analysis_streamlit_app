{
  "cells": [
    {
      "cell_type": "code",
      "execution_count": null,
      "metadata": {
        "colab": {
          "base_uri": "https://localhost:8080/"
        },
        "id": "WmXAftLLrQK4",
        "outputId": "f78d7bd4-9efd-415b-b416-a61741f8a083"
      },
      "outputs": [
        {
          "name": "stdout",
          "output_type": "stream",
          "text": [
            "\u001b[K\u001b[?25h/tools/node/bin/lt -> /tools/node/lib/node_modules/localtunnel/bin/lt.js\n",
            "+ localtunnel@2.0.2\n",
            "added 22 packages from 22 contributors in 2.197s\n"
          ]
        }
      ],
      "source": [
        "!pip install streamlit -q\n",
        "!npm install -g localtunnel"
      ]
    },
    {
      "cell_type": "code",
      "execution_count": null,
      "metadata": {
        "colab": {
          "base_uri": "https://localhost:8080/"
        },
        "id": "rJQ6jbSI0wsq",
        "outputId": "9163ba8f-0fae-4ee4-8450-aeb6541bf5a1"
      },
      "outputs": [
        {
          "name": "stdout",
          "output_type": "stream",
          "text": [
            "34.125.228.193\n"
          ]
        }
      ],
      "source": [
        "import streamlit as st\n",
        "import pandas as pd\n",
        "import numpy as np\n",
        "import matplotlib.pyplot as plt\n",
        "import seaborn as sns\n",
        "\n",
        "!pip install streamlit -q\n",
        "\n",
        "!wget -q -O - ipv4.icanhazip.com"
      ]
    },
    {
      "cell_type": "code",
      "execution_count": null,
      "metadata": {
        "colab": {
          "background_save": true,
          "base_uri": "https://localhost:8080/"
        },
        "id": "KS7QQrOE0Idl",
        "outputId": "d39faea3-9c27-4591-85ea-f262d004832f"
      },
      "outputs": [
        {
          "name": "stdout",
          "output_type": "stream",
          "text": [
            "\n",
            "Collecting usage statistics. To deactivate, set browser.gatherUsageStats to false.\n",
            "\u001b[0m\n",
            "\u001b[0m\n",
            "\u001b[34m\u001b[1m  You can now view your Streamlit app in your browser.\u001b[0m\n",
            "\u001b[0m\n",
            "\u001b[34m  Local URL: \u001b[0m\u001b[1mhttp://localhost:8501\u001b[0m\n",
            "\u001b[34m  Network URL: \u001b[0m\u001b[1mhttp://172.28.0.12:8501\u001b[0m\n",
            "\u001b[34m  External URL: \u001b[0m\u001b[1mhttp://34.125.228.193:8501\u001b[0m\n",
            "\u001b[0m\n",
            "\u001b[K\u001b[?25hnpx: installed 22 in 1.864s\n",
            "your url is: https://happy-bears-pick.loca.lt\n",
            "2024-06-24 06:42:21.719 \n",
            "`st.cache` is deprecated and will be removed soon. Please use one of Streamlit's new caching commands, `st.cache_data` or `st.cache_resource`.\n",
            "More information [in our docs](https://docs.streamlit.io/develop/concepts/architecture/caching).\n",
            "\n",
            "**Note**: The behavior of `st.cache` was updated in Streamlit 1.36 to the new caching logic used by `st.cache_data` and `st.cache_resource`.\n",
            "This might lead to some problems or unexpected behavior in certain edge cases.\n",
            "\n"
          ]
        }
      ],
      "source": [
        "!streamlit run /content/app.py & npx localtunnel --port 8501"
      ]
    },
    {
      "cell_type": "code",
      "execution_count": null,
      "metadata": {
        "id": "trHlSYagrfSj"
      },
      "outputs": [],
      "source": [
        "''' For app.py\n",
        "import streamlit as st\n",
        "import pandas as pd\n",
        "import seaborn as sns\n",
        "import matplotlib.pyplot as plt\n",
        "\n",
        "st.title(\"Population Analysis\")\n",
        "st.markdown(\"This app analyzes population data from the given dataset\")\n",
        "\n",
        "# Load the uploaded file\n",
        "uploaded_file = '/content/1.1 - India_Historical_Population_Density_Data.csv'\n",
        "\n",
        "@st.cache(persist=True)\n",
        "def load_data(file_path):\n",
        "    data = pd.read_csv(file_path)\n",
        "    return data\n",
        "\n",
        "data = load_data(uploaded_file)\n",
        "\n",
        "st.subheader(\"Dataset\")\n",
        "st.write(data)\n",
        "\n",
        "# Analysis 1: Yearly population density\n",
        "if 'Year' in data.columns and 'Population Density' in data.columns:\n",
        "    st.header(\"Yearly Population Density\")\n",
        "    fig, ax = plt.subplots()\n",
        "    sns.lineplot(data=data, x='Year', y='Population Density', ax=ax)\n",
        "    st.pyplot(fig)\n",
        "else:\n",
        "    st.error(\"Year and Population Density columns are required for the Yearly Population Density plot.\")\n",
        "\n",
        "# Analysis 2: Population growth\n",
        "if 'Year' in data.columns and 'Population' in data.columns:\n",
        "    st.header(\"Population Growth\")\n",
        "    data['Population Growth'] = data['Population'].diff()\n",
        "    fig, ax = plt.subplots()\n",
        "    sns.barplot(data=data, x='Year', y='Population Growth', ax=ax)\n",
        "    st.pyplot(fig)\n",
        "else:\n",
        "    st.error(\"Year and Population columns are required for the Population Growth plot.\")\n",
        "\n",
        "# Analysis 3: Population by state (if applicable)\n",
        "if 'State' in data.columns and 'Population' in data.columns:\n",
        "    st.header(\"Population by State\")\n",
        "    state_population = data.groupby('State')['Population'].sum().reset_index()\n",
        "    fig, ax = plt.subplots()\n",
        "    sns.barplot(data=state_population, x='State', y='Population', ax=ax)\n",
        "    st.pyplot(fig)\n",
        "else:\n",
        "    st.error(\"State and Population columns are required for the Population by State plot.\")\n",
        "\n",
        "# Show raw data if checkbox is selected\n",
        "if st.checkbox(\"Show Raw Data\", False):\n",
        "    st.subheader('Raw Data')\n",
        "    st.write(data)\n",
        "\n",
        "\n",
        "'''"
      ]
    }
  ],
  "metadata": {
    "colab": {
      "provenance": []
    },
    "kernelspec": {
      "display_name": "Python 3",
      "name": "python3"
    },
    "language_info": {
      "name": "python"
    }
  },
  "nbformat": 4,
  "nbformat_minor": 0
}